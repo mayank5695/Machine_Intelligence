{
 "cells": [
  {
   "cell_type": "code",
   "execution_count": 25,
   "metadata": {},
   "outputs": [],
   "source": [
    "import numpy as np\n",
    "import pandas as pd\n",
    "import matplotlib.pyplot as plt\n",
    "%matplotlib inline\n"
   ]
  },
  {
   "cell_type": "code",
   "execution_count": 26,
   "metadata": {},
   "outputs": [
    {
     "data": {
      "text/plain": [
       "'ASSIGNMENT 3 - 1 hidden layer Neural Network '"
      ]
     },
     "execution_count": 26,
     "metadata": {},
     "output_type": "execute_result"
    }
   ],
   "source": [
    "\"ASSIGNMENT 3 - 1 hidden layer Neural Network \""
   ]
  },
  {
   "cell_type": "code",
   "execution_count": 56,
   "metadata": {},
   "outputs": [
    {
     "data": {
      "text/plain": [
       "Text(0, 0.5, 'y_labels')"
      ]
     },
     "execution_count": 56,
     "metadata": {},
     "output_type": "execute_result"
    },
    {
     "data": {
      "image/png": "[encoded data removed]",
      "text/plain": [
       "<Figure size 432x288 with 1 Axes>"
      ]
     },
     "metadata": {
      "needs_background": "light"
     },
     "output_type": "display_data"
    }
   ],
   "source": [
    "_=np.linspace(0,1)\n",
    "#now plotting a sin function as output is sin\n",
    "plt.plot(_,np.sin(2.*np.pi*_))\n",
    "x,y=np.loadtxt('RegressionData.txt',unpack=True)\n",
    "plt.plot(x,y,'bo')\n",
    "plt.xlabel('x_values')\n",
    "plt.ylabel('y_labels')\n"
   ]
  },
  {
   "cell_type": "code",
   "execution_count": 57,
   "metadata": {},
   "outputs": [],
   "source": [
    "#adding weights and biases.\n",
    "\"\"\"Since B1 will be bias to hidden layers so it will be (3,1) and b2 will be bias to output layer so (1,1)\"\"\"\n",
    "b1=np.random.rand(3,1)-0.5\n",
    "b2=np.random.rand(1,1)-0.5\n",
    "\n",
    "\"\"\"W1 will be weight vector for hidden neurons from Input and w2 will be from hidden neurons to o/p\"\"\"\n",
    "w1=np.random.rand(3,1)-0.5\n",
    "w2=np.random.rand(1,3)-0.5\n",
    "\n"
   ]
  },
  {
   "cell_type": "code",
   "execution_count": 58,
   "metadata": {},
   "outputs": [
    {
     "data": {
      "text/plain": [
       "(array([[-0.46033469]]), -0.5894)"
      ]
     },
     "execution_count": 58,
     "metadata": {},
     "output_type": "execute_result"
    }
   ],
   "source": [
    "#do weight calculation\n",
    "a0=x[0]\n",
    "y_true=y[0]\n",
    "\n",
    "#output for hidden layer first neuron will be tanh(weight+bias) \n",
    "z1=np.dot(w1,a0)+b1 #net_hidden\n",
    "a1=np.tanh(z1) #out_hidden\n",
    "z2=np.dot(w2,a1)+b2 #net_output_layer\n",
    "a2=z2 #out_output_layer\n",
    "\n",
    "a2,y_true\n",
    "\n"
   ]
  },
  {
   "cell_type": "code",
   "execution_count": 59,
   "metadata": {},
   "outputs": [
    {
     "data": {
      "text/plain": [
       "0.016657854073240882"
      ]
     },
     "execution_count": 59,
     "metadata": {},
     "output_type": "execute_result"
    }
   ],
   "source": [
    "#quadratic error cost function\n",
    "cost=np.mean((a2-y_true)**2)\n",
    "cost"
   ]
  },
  {
   "cell_type": "code",
   "execution_count": 60,
   "metadata": {},
   "outputs": [],
   "source": [
    "delta2=2.*a2*1. #local error\n",
    "delta1=np.dot(w2.T,delta2)*(1-np.tanh(z1)**2)\n",
    "\n",
    "dW2=np.dot(delta2,a1.T) #final change in error is 2.a2-ytrue.1.a1\n",
    "dW1=np.dot(delta1,a0.T) #final in hidden is ((2.a2.1.).w2)*derivative(tanh(z1))*a0"
   ]
  },
  {
   "cell_type": "code",
   "execution_count": 61,
   "metadata": {},
   "outputs": [
    {
     "data": {
      "text/plain": [
       "(array([[ 0.10788851],\n",
       "        [-0.13373258],\n",
       "        [ 0.04680229]]), array([[ 0.22158548,  0.22840096, -0.1958655 ]]))"
      ]
     },
     "execution_count": 61,
     "metadata": {},
     "output_type": "execute_result"
    }
   ],
   "source": [
    "learning_rate=0.5\n",
    "\n",
    "dW1,dW2"
   ]
  },
  {
   "cell_type": "code",
   "execution_count": 73,
   "metadata": {},
   "outputs": [
    {
     "ename": "TypeError",
     "evalue": "can't multiply sequence by non-int of type 'float'",
     "traceback": [
      "\u001b[0;31m---------------------------------------------------------------------------\u001b[0m",
      "\u001b[0;31mTypeError\u001b[0m                                 Traceback (most recent call last)",
      "\u001b[0;32m<ipython-input-73-98c6a7b21067>\u001b[0m in \u001b[0;36m<module>\u001b[0;34m\u001b[0m\n\u001b[0;32m----> 1\u001b[0;31m \u001b[0mw1\u001b[0m\u001b[0;34m=\u001b[0m\u001b[0mw1\u001b[0m\u001b[0;34m-\u001b[0m\u001b[0mlearning_rate\u001b[0m\u001b[0;34m*\u001b[0m\u001b[0mdW1\u001b[0m\u001b[0;34m\u001b[0m\u001b[0m\n\u001b[0m\u001b[1;32m      2\u001b[0m \u001b[0mw2\u001b[0m\u001b[0;34m=\u001b[0m\u001b[0mw2\u001b[0m\u001b[0;34m-\u001b[0m\u001b[0mlearning_rate\u001b[0m\u001b[0;34m*\u001b[0m\u001b[0mdW2\u001b[0m\u001b[0;34m\u001b[0m\u001b[0m\n\u001b[1;32m      3\u001b[0m \u001b[0;31m#modification in weights\u001b[0m\u001b[0;34m\u001b[0m\u001b[0;34m\u001b[0m\u001b[0m\n",
      "\u001b[0;31mTypeError\u001b[0m: can't multiply sequence by non-int of type 'float'"
     ],
     "output_type": "error"
    }
   ],
   "source": [
    "w1=w1-learning_rate*dW1\n",
    "w2=w2-learning_rate*dW2\n",
    "#modification in weights\n"
   ]
  },
  {
   "cell_type": "code",
   "execution_count": 74,
   "metadata": {},
   "outputs": [],
   "source": [
    "cost_history=[]\n",
    "learning_rate=0.005\n",
    "for epoch in range(5000):\n",
    "    #gradient for each epoch\n",
    "    dW1=[]\n",
    "    dW2=[]\n",
    "    cost_epoch=[]\n",
    "    #doing it for everything in x\n",
    "    for a0, y_true in zip(x,y):\n",
    "        #forward propagation\n",
    "        \n",
    "        z1 = np.dot(w1, a0) + b1\n",
    "        a1 = np.tanh(z1)\n",
    "        z2 = np.dot(w2, a1) + b2\n",
    "        a2 = z2  # linear\n",
    "        \n",
    "        cost=np.mean((a2-y_true)**2)\n",
    "        cost_epoch.append(cost)\n",
    "        \n",
    "        delta2=2.*a2*1. #local error\n",
    "        delta1=np.dot(w2.T,delta2)*(1-np.tanh(z1)**2)\n",
    "\n",
    "        dW2.append(np.dot(delta2,a1.T)) #final change in error is 2.a2-ytrue.1.a1\n",
    "        dW1.append(np.dot(delta1,a0.T))\n",
    "    w1 -= learning_rate * np.mean(dW1, axis=0)\n",
    "    w2 -= learning_rate * np.mean(dW2, axis=0)\n",
    "    cost_history.append(np.mean(cost_epoch))\n",
    "\n",
    "#cost_history\n",
    "        "
   ]
  },
  {
   "cell_type": "code",
   "execution_count": 105,
   "metadata": {},
   "outputs": [
    {
     "data": {
      "text/plain": [
       "[<matplotlib.lines.Line2D at 0x11d2a0080>]"
      ]
     },
     "execution_count": 105,
     "metadata": {},
     "output_type": "execute_result"
    },
    {
     "data": {
      "image/png": "[encoded data removed]",
      "text/plain": [
       "<Figure size 432x288 with 1 Axes>"
      ]
     },
     "metadata": {
      "needs_background": "light"
     },
     "output_type": "display_data"
    }
   ],
   "source": [
    "plt.plot(cost_history)"
   ]
  },
  {
   "cell_type": "code",
   "execution_count": 104,
   "metadata": {},
   "outputs": [
    {
     "data": {
      "text/plain": [
       "[<matplotlib.lines.Line2D at 0x11d212518>]"
      ]
     },
     "execution_count": 104,
     "metadata": {},
     "output_type": "execute_result"
    },
    {
     "data": {
      "image/png": "[encoded data removed]",
      "text/plain": [
       "<Figure size 432x288 with 1 Axes>"
      ]
     },
     "metadata": {
      "needs_background": "light"
     },
     "output_type": "display_data"
    }
   ],
   "source": [
    "plt.plot(cost_epoch)"
   ]
  },
  {
   "cell_type": "code",
   "execution_count": 77,
   "metadata": {},
   "outputs": [
    {
     "data": {
      "text/plain": [
       "'USING LIBRARY such as KERAS TO DO THE SAME.'"
      ]
     },
     "execution_count": 77,
     "metadata": {},
     "output_type": "execute_result"
    }
   ],
   "source": [
    "\"\"\"USING LIBRARY such as KERAS TO DO THE SAME.\"\"\""
   ]
  },
  {
   "cell_type": "code",
   "execution_count": 91,
   "metadata": {},
   "outputs": [],
   "source": [
    "from keras.models import Sequential\n",
    "from keras.layers import Dense\n",
    "model=Sequential([Dense(3,input_dim=1,activation='tanh'),Dense(1,activation='linear')])\n",
    "#model.add(Dense(5,activation='tanh'))"
   ]
  },
  {
   "cell_type": "code",
   "execution_count": 92,
   "metadata": {},
   "outputs": [],
   "source": [
    "from keras.optimizers import SGD\n",
    "model.compile(SGD(0.5),'mse')"
   ]
  },
  {
   "cell_type": "code",
   "execution_count": 107,
   "metadata": {},
   "outputs": [
    {
     "name": "stdout",
     "output_type": "stream",
     "text": [
      "Epoch 1/300\n",
      "10/10 [==============================] - 0s 246us/step - loss: nan\n",
      "Epoch 2/300\n",
      "10/10 [==============================] - 0s 261us/step - loss: nan\n",
      "Epoch 3/300\n",
      "10/10 [==============================] - 0s 211us/step - loss: nan\n",
      "Epoch 4/300\n",
      "10/10 [==============================] - 0s 254us/step - loss: nan\n",
      "Epoch 5/300\n",
      "10/10 [==============================] - 0s 213us/step - loss: nan\n",
      "Epoch 6/300\n",
      "10/10 [==============================] - 0s 231us/step - loss: nan\n",
      "Epoch 7/300\n",
      "10/10 [==============================] - 0s 231us/step - loss: nan\n",
      "Epoch 8/300\n",
      "10/10 [==============================] - 0s 215us/step - loss: nan\n",
      "Epoch 9/300\n",
      "10/10 [==============================] - 0s 217us/step - loss: nan\n",
      "Epoch 10/300\n",
      "10/10 [==============================] - 0s 282us/step - loss: nan\n",
      "Epoch 11/300\n",
      "10/10 [==============================] - 0s 379us/step - loss: nan\n",
      "Epoch 12/300\n",
      "10/10 [==============================] - 0s 391us/step - loss: nan\n",
      "Epoch 13/300\n",
      "10/10 [==============================] - 0s 248us/step - loss: nan\n",
      "Epoch 14/300\n",
      "10/10 [==============================] - 0s 351us/step - loss: nan\n",
      "Epoch 15/300\n",
      "10/10 [==============================] - 0s 163us/step - loss: nan\n",
      "Epoch 16/300\n",
      "10/10 [==============================] - 0s 220us/step - loss: nan\n",
      "Epoch 17/300\n",
      "10/10 [==============================] - 0s 201us/step - loss: nan\n",
      "Epoch 18/300\n",
      "10/10 [==============================] - 0s 229us/step - loss: nan\n",
      "Epoch 19/300\n",
      "10/10 [==============================] - 0s 260us/step - loss: nan\n",
      "Epoch 20/300\n",
      "10/10 [==============================] - 0s 351us/step - loss: nan\n",
      "Epoch 21/300\n",
      "10/10 [==============================] - 0s 282us/step - loss: nan\n",
      "Epoch 22/300\n",
      "10/10 [==============================] - 0s 236us/step - loss: nan\n",
      "Epoch 23/300\n",
      "10/10 [==============================] - 0s 295us/step - loss: nan\n",
      "Epoch 24/300\n",
      "10/10 [==============================] - 0s 200us/step - loss: nan\n",
      "Epoch 25/300\n",
      "10/10 [==============================] - 0s 229us/step - loss: nan\n",
      "Epoch 26/300\n",
      "10/10 [==============================] - 0s 341us/step - loss: nan\n",
      "Epoch 27/300\n",
      "10/10 [==============================] - 0s 386us/step - loss: nan\n",
      "Epoch 28/300\n",
      "10/10 [==============================] - 0s 239us/step - loss: nan\n",
      "Epoch 29/300\n",
      "10/10 [==============================] - 0s 248us/step - loss: nan\n",
      "Epoch 30/300\n",
      "10/10 [==============================] - 0s 449us/step - loss: nan\n",
      "Epoch 31/300\n",
      "10/10 [==============================] - 0s 177us/step - loss: nan\n",
      "Epoch 32/300\n",
      "10/10 [==============================] - 0s 213us/step - loss: nan\n",
      "Epoch 33/300\n",
      "10/10 [==============================] - 0s 210us/step - loss: nan\n",
      "Epoch 34/300\n",
      "10/10 [==============================] - 0s 254us/step - loss: nan\n",
      "Epoch 35/300\n",
      "10/10 [==============================] - 0s 228us/step - loss: nan\n",
      "Epoch 36/300\n",
      "10/10 [==============================] - 0s 205us/step - loss: nan\n",
      "Epoch 37/300\n",
      "10/10 [==============================] - 0s 227us/step - loss: nan\n",
      "Epoch 38/300\n",
      "10/10 [==============================] - 0s 376us/step - loss: nan\n",
      "Epoch 39/300\n",
      "10/10 [==============================] - 0s 341us/step - loss: nan\n",
      "Epoch 40/300\n",
      "10/10 [==============================] - 0s 302us/step - loss: nan\n",
      "Epoch 41/300\n",
      "10/10 [==============================] - 0s 195us/step - loss: nan\n",
      "Epoch 42/300\n",
      "10/10 [==============================] - 0s 224us/step - loss: nan\n",
      "Epoch 43/300\n",
      "10/10 [==============================] - 0s 458us/step - loss: nan\n",
      "Epoch 44/300\n",
      "10/10 [==============================] - 0s 228us/step - loss: nan\n",
      "Epoch 45/300\n",
      "10/10 [==============================] - 0s 224us/step - loss: nan\n",
      "Epoch 46/300\n",
      "10/10 [==============================] - 0s 231us/step - loss: nan\n",
      "Epoch 47/300\n",
      "10/10 [==============================] - 0s 205us/step - loss: nan\n",
      "Epoch 48/300\n",
      "10/10 [==============================] - 0s 154us/step - loss: nan\n",
      "Epoch 49/300\n",
      "10/10 [==============================] - 0s 213us/step - loss: nan\n",
      "Epoch 50/300\n",
      "10/10 [==============================] - 0s 207us/step - loss: nan\n",
      "Epoch 51/300\n",
      "10/10 [==============================] - 0s 200us/step - loss: nan\n",
      "Epoch 52/300\n",
      "10/10 [==============================] - 0s 221us/step - loss: nan\n",
      "Epoch 53/300\n",
      "10/10 [==============================] - 0s 291us/step - loss: nan\n",
      "Epoch 54/300\n",
      "10/10 [==============================] - 0s 314us/step - loss: nan\n",
      "Epoch 55/300\n",
      "10/10 [==============================] - 0s 310us/step - loss: nan\n",
      "Epoch 56/300\n",
      "10/10 [==============================] - 0s 225us/step - loss: nan\n",
      "Epoch 57/300\n",
      "10/10 [==============================] - 0s 207us/step - loss: nan\n",
      "Epoch 58/300\n",
      "10/10 [==============================] - 0s 252us/step - loss: nan\n",
      "Epoch 59/300\n",
      "10/10 [==============================] - 0s 236us/step - loss: nan\n",
      "Epoch 60/300\n",
      "10/10 [==============================] - 0s 293us/step - loss: nan\n",
      "Epoch 61/300\n",
      "10/10 [==============================] - 0s 205us/step - loss: nan\n",
      "Epoch 62/300\n",
      "10/10 [==============================] - 0s 269us/step - loss: nan\n",
      "Epoch 63/300\n",
      "10/10 [==============================] - 0s 262us/step - loss: nan\n",
      "Epoch 64/300\n",
      "10/10 [==============================] - 0s 236us/step - loss: nan\n",
      "Epoch 65/300\n",
      "10/10 [==============================] - 0s 204us/step - loss: nan\n",
      "Epoch 66/300\n",
      "10/10 [==============================] - 0s 225us/step - loss: nan\n",
      "Epoch 67/300\n",
      "10/10 [==============================] - 0s 244us/step - loss: nan\n",
      "Epoch 68/300\n",
      "10/10 [==============================] - 0s 239us/step - loss: nan\n",
      "Epoch 69/300\n",
      "10/10 [==============================] - 0s 245us/step - loss: nan\n",
      "Epoch 70/300\n",
      "10/10 [==============================] - 0s 219us/step - loss: nan\n",
      "Epoch 71/300\n",
      "10/10 [==============================] - 0s 375us/step - loss: nan\n",
      "Epoch 72/300\n",
      "10/10 [==============================] - 0s 383us/step - loss: nan\n",
      "Epoch 73/300\n",
      "10/10 [==============================] - 0s 243us/step - loss: nan\n",
      "Epoch 74/300\n",
      "10/10 [==============================] - 0s 180us/step - loss: nan\n",
      "Epoch 75/300\n",
      "10/10 [==============================] - 0s 173us/step - loss: nan\n",
      "Epoch 76/300\n",
      "10/10 [==============================] - 0s 233us/step - loss: nan\n",
      "Epoch 77/300\n",
      "10/10 [==============================] - 0s 365us/step - loss: nan\n",
      "Epoch 78/300\n",
      "10/10 [==============================] - 0s 159us/step - loss: nan\n",
      "Epoch 79/300\n",
      "10/10 [==============================] - 0s 194us/step - loss: nan\n",
      "Epoch 80/300\n",
      "10/10 [==============================] - 0s 179us/step - loss: nan\n",
      "Epoch 81/300\n",
      "10/10 [==============================] - 0s 383us/step - loss: nan\n",
      "Epoch 82/300\n",
      "10/10 [==============================] - 0s 170us/step - loss: nan\n",
      "Epoch 83/300\n",
      "10/10 [==============================] - 0s 256us/step - loss: nan\n",
      "Epoch 84/300\n",
      "10/10 [==============================] - 0s 326us/step - loss: nan\n",
      "Epoch 85/300\n",
      "10/10 [==============================] - 0s 336us/step - loss: nan\n",
      "Epoch 86/300\n",
      "10/10 [==============================] - 0s 347us/step - loss: nan\n",
      "Epoch 87/300\n",
      "10/10 [==============================] - 0s 487us/step - loss: nan\n",
      "Epoch 88/300\n",
      "10/10 [==============================] - 0s 564us/step - loss: nan\n",
      "Epoch 89/300\n",
      "10/10 [==============================] - 0s 269us/step - loss: nan\n",
      "Epoch 90/300\n",
      "10/10 [==============================] - 0s 216us/step - loss: nan\n",
      "Epoch 91/300\n",
      "10/10 [==============================] - 0s 442us/step - loss: nan\n",
      "Epoch 92/300\n",
      "10/10 [==============================] - 0s 154us/step - loss: nan\n",
      "Epoch 93/300\n",
      "10/10 [==============================] - 0s 202us/step - loss: nan\n",
      "Epoch 94/300\n",
      "10/10 [==============================] - 0s 206us/step - loss: nan\n",
      "Epoch 95/300\n",
      "10/10 [==============================] - 0s 243us/step - loss: nan\n",
      "Epoch 96/300\n",
      "10/10 [==============================] - 0s 170us/step - loss: nan\n",
      "Epoch 97/300\n",
      "10/10 [==============================] - 0s 310us/step - loss: nan\n",
      "Epoch 98/300\n",
      "10/10 [==============================] - 0s 194us/step - loss: nan\n",
      "Epoch 99/300\n",
      "10/10 [==============================] - 0s 188us/step - loss: nan\n",
      "Epoch 100/300\n",
      "10/10 [==============================] - 0s 221us/step - loss: nan\n",
      "Epoch 101/300\n",
      "10/10 [==============================] - 0s 327us/step - loss: nan\n",
      "Epoch 102/300\n",
      "10/10 [==============================] - 0s 335us/step - loss: nan\n",
      "Epoch 103/300\n",
      "10/10 [==============================] - 0s 276us/step - loss: nan\n"
     ]
    },
    {
     "name": "stdout",
     "output_type": "stream",
     "text": [
      "Epoch 104/300\n",
      "10/10 [==============================] - 0s 281us/step - loss: nan\n",
      "Epoch 105/300\n",
      "10/10 [==============================] - 0s 241us/step - loss: nan\n",
      "Epoch 106/300\n",
      "10/10 [==============================] - 0s 159us/step - loss: nan\n",
      "Epoch 107/300\n",
      "10/10 [==============================] - 0s 426us/step - loss: nan\n",
      "Epoch 108/300\n",
      "10/10 [==============================] - 0s 179us/step - loss: nan\n",
      "Epoch 109/300\n",
      "10/10 [==============================] - 0s 185us/step - loss: nan\n",
      "Epoch 110/300\n",
      "10/10 [==============================] - 0s 203us/step - loss: nan\n",
      "Epoch 111/300\n",
      "10/10 [==============================] - 0s 327us/step - loss: nan\n",
      "Epoch 112/300\n",
      "10/10 [==============================] - 0s 187us/step - loss: nan\n",
      "Epoch 113/300\n",
      "10/10 [==============================] - 0s 535us/step - loss: nan\n",
      "Epoch 114/300\n",
      "10/10 [==============================] - 0s 254us/step - loss: nan\n",
      "Epoch 115/300\n",
      "10/10 [==============================] - 0s 227us/step - loss: nan\n",
      "Epoch 116/300\n",
      "10/10 [==============================] - 0s 217us/step - loss: nan\n",
      "Epoch 117/300\n",
      "10/10 [==============================] - 0s 199us/step - loss: nan\n",
      "Epoch 118/300\n",
      "10/10 [==============================] - 0s 170us/step - loss: nan\n",
      "Epoch 119/300\n",
      "10/10 [==============================] - 0s 430us/step - loss: nan\n",
      "Epoch 120/300\n",
      "10/10 [==============================] - 0s 284us/step - loss: nan\n",
      "Epoch 121/300\n",
      "10/10 [==============================] - 0s 467us/step - loss: nan\n",
      "Epoch 122/300\n",
      "10/10 [==============================] - 0s 387us/step - loss: nan\n",
      "Epoch 123/300\n",
      "10/10 [==============================] - 0s 224us/step - loss: nan\n",
      "Epoch 124/300\n",
      "10/10 [==============================] - 0s 284us/step - loss: nan\n",
      "Epoch 125/300\n",
      "10/10 [==============================] - 0s 215us/step - loss: nan\n",
      "Epoch 126/300\n",
      "10/10 [==============================] - 0s 206us/step - loss: nan\n",
      "Epoch 127/300\n",
      "10/10 [==============================] - 0s 370us/step - loss: nan\n",
      "Epoch 128/300\n",
      "10/10 [==============================] - 0s 197us/step - loss: nan\n",
      "Epoch 129/300\n",
      "10/10 [==============================] - 0s 403us/step - loss: nan\n",
      "Epoch 130/300\n",
      "10/10 [==============================] - 0s 164us/step - loss: nan\n",
      "Epoch 131/300\n",
      "10/10 [==============================] - 0s 182us/step - loss: nan\n",
      "Epoch 132/300\n",
      "10/10 [==============================] - 0s 152us/step - loss: nan\n",
      "Epoch 133/300\n",
      "10/10 [==============================] - 0s 177us/step - loss: nan\n",
      "Epoch 134/300\n",
      "10/10 [==============================] - 0s 180us/step - loss: nan\n",
      "Epoch 135/300\n",
      "10/10 [==============================] - 0s 277us/step - loss: nan\n",
      "Epoch 136/300\n",
      "10/10 [==============================] - 0s 213us/step - loss: nan\n",
      "Epoch 137/300\n",
      "10/10 [==============================] - 0s 637us/step - loss: nan\n",
      "Epoch 138/300\n",
      "10/10 [==============================] - 0s 463us/step - loss: nan\n",
      "Epoch 139/300\n",
      "10/10 [==============================] - 0s 269us/step - loss: nan\n",
      "Epoch 140/300\n",
      "10/10 [==============================] - 0s 223us/step - loss: nan\n",
      "Epoch 141/300\n",
      "10/10 [==============================] - 0s 196us/step - loss: nan\n",
      "Epoch 142/300\n",
      "10/10 [==============================] - 0s 468us/step - loss: nan\n",
      "Epoch 143/300\n",
      "10/10 [==============================] - 0s 231us/step - loss: nan\n",
      "Epoch 144/300\n",
      "10/10 [==============================] - 0s 246us/step - loss: nan\n",
      "Epoch 145/300\n",
      "10/10 [==============================] - 0s 343us/step - loss: nan\n",
      "Epoch 146/300\n",
      "10/10 [==============================] - 0s 319us/step - loss: nan\n",
      "Epoch 147/300\n",
      "10/10 [==============================] - 0s 297us/step - loss: nan\n",
      "Epoch 148/300\n",
      "10/10 [==============================] - 0s 214us/step - loss: nan\n",
      "Epoch 149/300\n",
      "10/10 [==============================] - 0s 269us/step - loss: nan\n",
      "Epoch 150/300\n",
      "10/10 [==============================] - 0s 174us/step - loss: nan\n",
      "Epoch 151/300\n",
      "10/10 [==============================] - 0s 204us/step - loss: nan\n",
      "Epoch 152/300\n",
      "10/10 [==============================] - 0s 194us/step - loss: nan\n",
      "Epoch 153/300\n",
      "10/10 [==============================] - 0s 426us/step - loss: nan\n",
      "Epoch 154/300\n",
      "10/10 [==============================] - 0s 190us/step - loss: nan\n",
      "Epoch 155/300\n",
      "10/10 [==============================] - 0s 316us/step - loss: nan\n",
      "Epoch 156/300\n",
      "10/10 [==============================] - 0s 574us/step - loss: nan\n",
      "Epoch 157/300\n",
      "10/10 [==============================] - 0s 353us/step - loss: nan\n",
      "Epoch 158/300\n",
      "10/10 [==============================] - 0s 202us/step - loss: nan\n",
      "Epoch 159/300\n",
      "10/10 [==============================] - 0s 237us/step - loss: nan\n",
      "Epoch 160/300\n",
      "10/10 [==============================] - 0s 188us/step - loss: nan\n",
      "Epoch 161/300\n",
      "10/10 [==============================] - 0s 233us/step - loss: nan\n",
      "Epoch 162/300\n",
      "10/10 [==============================] - 0s 193us/step - loss: nan\n",
      "Epoch 163/300\n",
      "10/10 [==============================] - 0s 245us/step - loss: nan\n",
      "Epoch 164/300\n",
      "10/10 [==============================] - 0s 222us/step - loss: nan\n",
      "Epoch 165/300\n",
      "10/10 [==============================] - 0s 209us/step - loss: nan\n",
      "Epoch 166/300\n",
      "10/10 [==============================] - 0s 391us/step - loss: nan\n",
      "Epoch 167/300\n",
      "10/10 [==============================] - 0s 250us/step - loss: nan\n",
      "Epoch 168/300\n",
      "10/10 [==============================] - 0s 223us/step - loss: nan\n",
      "Epoch 169/300\n",
      "10/10 [==============================] - 0s 272us/step - loss: nan\n",
      "Epoch 170/300\n",
      "10/10 [==============================] - 0s 257us/step - loss: nan\n",
      "Epoch 171/300\n",
      "10/10 [==============================] - 0s 262us/step - loss: nan\n",
      "Epoch 172/300\n",
      "10/10 [==============================] - 0s 192us/step - loss: nan\n",
      "Epoch 173/300\n",
      "10/10 [==============================] - 0s 227us/step - loss: nan\n",
      "Epoch 174/300\n",
      "10/10 [==============================] - 0s 451us/step - loss: nan\n",
      "Epoch 175/300\n",
      "10/10 [==============================] - 0s 257us/step - loss: nan\n",
      "Epoch 176/300\n",
      "10/10 [==============================] - 0s 223us/step - loss: nan\n",
      "Epoch 177/300\n",
      "10/10 [==============================] - 0s 268us/step - loss: nan\n",
      "Epoch 178/300\n",
      "10/10 [==============================] - 0s 389us/step - loss: nan\n",
      "Epoch 179/300\n",
      "10/10 [==============================] - 0s 274us/step - loss: nan\n",
      "Epoch 180/300\n",
      "10/10 [==============================] - 0s 282us/step - loss: nan\n",
      "Epoch 181/300\n",
      "10/10 [==============================] - 0s 307us/step - loss: nan\n",
      "Epoch 182/300\n",
      "10/10 [==============================] - 0s 421us/step - loss: nan\n",
      "Epoch 183/300\n",
      "10/10 [==============================] - 0s 211us/step - loss: nan\n",
      "Epoch 184/300\n",
      "10/10 [==============================] - 0s 194us/step - loss: nan\n",
      "Epoch 185/300\n",
      "10/10 [==============================] - 0s 237us/step - loss: nan\n",
      "Epoch 186/300\n",
      "10/10 [==============================] - 0s 557us/step - loss: nan\n",
      "Epoch 187/300\n",
      "10/10 [==============================] - 0s 384us/step - loss: nan\n",
      "Epoch 188/300\n",
      "10/10 [==============================] - 0s 558us/step - loss: nan\n",
      "Epoch 189/300\n",
      "10/10 [==============================] - 0s 600us/step - loss: nan\n",
      "Epoch 190/300\n",
      "10/10 [==============================] - 0s 275us/step - loss: nan\n",
      "Epoch 191/300\n",
      "10/10 [==============================] - 0s 497us/step - loss: nan\n",
      "Epoch 192/300\n",
      "10/10 [==============================] - 0s 216us/step - loss: nan\n",
      "Epoch 193/300\n",
      "10/10 [==============================] - 0s 213us/step - loss: nan\n",
      "Epoch 194/300\n",
      "10/10 [==============================] - 0s 243us/step - loss: nan\n",
      "Epoch 195/300\n",
      "10/10 [==============================] - 0s 370us/step - loss: nan\n",
      "Epoch 196/300\n",
      "10/10 [==============================] - 0s 242us/step - loss: nan\n",
      "Epoch 197/300\n",
      "10/10 [==============================] - 0s 309us/step - loss: nan\n",
      "Epoch 198/300\n",
      "10/10 [==============================] - 0s 248us/step - loss: nan\n",
      "Epoch 199/300\n",
      "10/10 [==============================] - 0s 205us/step - loss: nan\n",
      "Epoch 200/300\n",
      "10/10 [==============================] - 0s 261us/step - loss: nan\n",
      "Epoch 201/300\n",
      "10/10 [==============================] - 0s 637us/step - loss: nan\n",
      "Epoch 202/300\n",
      "10/10 [==============================] - 0s 462us/step - loss: nan\n",
      "Epoch 203/300\n",
      "10/10 [==============================] - 0s 214us/step - loss: nan\n",
      "Epoch 204/300\n",
      "10/10 [==============================] - 0s 642us/step - loss: nan\n",
      "Epoch 205/300\n"
     ]
    },
    {
     "name": "stdout",
     "output_type": "stream",
     "text": [
      "10/10 [==============================] - 0s 714us/step - loss: nan\n",
      "Epoch 206/300\n",
      "10/10 [==============================] - 0s 549us/step - loss: nan\n",
      "Epoch 207/300\n",
      "10/10 [==============================] - 0s 391us/step - loss: nan\n",
      "Epoch 208/300\n",
      "10/10 [==============================] - 0s 450us/step - loss: nan\n",
      "Epoch 209/300\n",
      "10/10 [==============================] - 0s 588us/step - loss: nan\n",
      "Epoch 210/300\n",
      "10/10 [==============================] - 0s 897us/step - loss: nan\n",
      "Epoch 211/300\n",
      "10/10 [==============================] - 0s 309us/step - loss: nan\n",
      "Epoch 212/300\n",
      "10/10 [==============================] - 0s 267us/step - loss: nan\n",
      "Epoch 213/300\n",
      "10/10 [==============================] - 0s 231us/step - loss: nan\n",
      "Epoch 214/300\n",
      "10/10 [==============================] - 0s 440us/step - loss: nan\n",
      "Epoch 215/300\n",
      "10/10 [==============================] - 0s 394us/step - loss: nan\n",
      "Epoch 216/300\n",
      "10/10 [==============================] - 0s 440us/step - loss: nan\n",
      "Epoch 217/300\n",
      "10/10 [==============================] - 0s 683us/step - loss: nan\n",
      "Epoch 218/300\n",
      "10/10 [==============================] - 0s 353us/step - loss: nan\n",
      "Epoch 219/300\n",
      "10/10 [==============================] - 0s 663us/step - loss: nan\n",
      "Epoch 220/300\n",
      "10/10 [==============================] - 0s 471us/step - loss: nan\n",
      "Epoch 221/300\n",
      "10/10 [==============================] - 0s 484us/step - loss: nan\n",
      "Epoch 222/300\n",
      "10/10 [==============================] - 0s 736us/step - loss: nan\n",
      "Epoch 223/300\n",
      "10/10 [==============================] - 0s 375us/step - loss: nan\n",
      "Epoch 224/300\n",
      "10/10 [==============================] - 0s 467us/step - loss: nan\n",
      "Epoch 225/300\n",
      "10/10 [==============================] - 0s 496us/step - loss: nan\n",
      "Epoch 226/300\n",
      "10/10 [==============================] - 0s 247us/step - loss: nan\n",
      "Epoch 227/300\n",
      "10/10 [==============================] - 0s 316us/step - loss: nan\n",
      "Epoch 228/300\n",
      "10/10 [==============================] - 0s 690us/step - loss: nan\n",
      "Epoch 229/300\n",
      "10/10 [==============================] - 0s 213us/step - loss: nan\n",
      "Epoch 230/300\n",
      "10/10 [==============================] - 0s 321us/step - loss: nan\n",
      "Epoch 231/300\n",
      "10/10 [==============================] - 0s 484us/step - loss: nan\n",
      "Epoch 232/300\n",
      "10/10 [==============================] - 0s 294us/step - loss: nan\n",
      "Epoch 233/300\n",
      "10/10 [==============================] - 0s 279us/step - loss: nan\n",
      "Epoch 234/300\n",
      "10/10 [==============================] - 0s 364us/step - loss: nan\n",
      "Epoch 235/300\n",
      "10/10 [==============================] - 0s 378us/step - loss: nan\n",
      "Epoch 236/300\n",
      "10/10 [==============================] - 0s 214us/step - loss: nan\n",
      "Epoch 237/300\n",
      "10/10 [==============================] - 0s 438us/step - loss: nan\n",
      "Epoch 238/300\n",
      "10/10 [==============================] - 0s 304us/step - loss: nan\n",
      "Epoch 239/300\n",
      "10/10 [==============================] - 0s 443us/step - loss: nan\n",
      "Epoch 240/300\n",
      "10/10 [==============================] - 0s 230us/step - loss: nan\n",
      "Epoch 241/300\n",
      "10/10 [==============================] - 0s 311us/step - loss: nan\n",
      "Epoch 242/300\n",
      "10/10 [==============================] - 0s 362us/step - loss: nan\n",
      "Epoch 243/300\n",
      "10/10 [==============================] - 0s 209us/step - loss: nan\n",
      "Epoch 244/300\n",
      "10/10 [==============================] - 0s 216us/step - loss: nan\n",
      "Epoch 245/300\n",
      "10/10 [==============================] - 0s 256us/step - loss: nan\n",
      "Epoch 246/300\n",
      "10/10 [==============================] - 0s 405us/step - loss: nan\n",
      "Epoch 247/300\n",
      "10/10 [==============================] - 0s 250us/step - loss: nan\n",
      "Epoch 248/300\n",
      "10/10 [==============================] - 0s 249us/step - loss: nan\n",
      "Epoch 249/300\n",
      "10/10 [==============================] - 0s 873us/step - loss: nan\n",
      "Epoch 250/300\n",
      "10/10 [==============================] - 0s 209us/step - loss: nan\n",
      "Epoch 251/300\n",
      "10/10 [==============================] - 0s 342us/step - loss: nan\n",
      "Epoch 252/300\n",
      "10/10 [==============================] - 0s 240us/step - loss: nan\n",
      "Epoch 253/300\n",
      "10/10 [==============================] - 0s 194us/step - loss: nan\n",
      "Epoch 254/300\n",
      "10/10 [==============================] - 0s 264us/step - loss: nan\n",
      "Epoch 255/300\n",
      "10/10 [==============================] - 0s 203us/step - loss: nan\n",
      "Epoch 256/300\n",
      "10/10 [==============================] - 0s 274us/step - loss: nan\n",
      "Epoch 257/300\n",
      "10/10 [==============================] - 0s 302us/step - loss: nan\n",
      "Epoch 258/300\n",
      "10/10 [==============================] - 0s 246us/step - loss: nan\n",
      "Epoch 259/300\n",
      "10/10 [==============================] - 0s 483us/step - loss: nan\n",
      "Epoch 260/300\n",
      "10/10 [==============================] - 0s 725us/step - loss: nan\n",
      "Epoch 261/300\n",
      "10/10 [==============================] - 0s 313us/step - loss: nan\n",
      "Epoch 262/300\n",
      "10/10 [==============================] - 0s 220us/step - loss: nan\n",
      "Epoch 263/300\n",
      "10/10 [==============================] - 0s 265us/step - loss: nan\n",
      "Epoch 264/300\n",
      "10/10 [==============================] - 0s 138us/step - loss: nan\n",
      "Epoch 265/300\n",
      "10/10 [==============================] - 0s 167us/step - loss: nan\n",
      "Epoch 266/300\n",
      "10/10 [==============================] - 0s 153us/step - loss: nan\n",
      "Epoch 267/300\n",
      "10/10 [==============================] - 0s 270us/step - loss: nan\n",
      "Epoch 268/300\n",
      "10/10 [==============================] - 0s 270us/step - loss: nan\n",
      "Epoch 269/300\n",
      "10/10 [==============================] - 0s 292us/step - loss: nan\n",
      "Epoch 270/300\n",
      "10/10 [==============================] - 0s 216us/step - loss: nan\n",
      "Epoch 271/300\n",
      "10/10 [==============================] - 0s 481us/step - loss: nan\n",
      "Epoch 272/300\n",
      "10/10 [==============================] - 0s 542us/step - loss: nan\n",
      "Epoch 273/300\n",
      "10/10 [==============================] - 0s 276us/step - loss: nan\n",
      "Epoch 274/300\n",
      "10/10 [==============================] - 0s 173us/step - loss: nan\n",
      "Epoch 275/300\n",
      "10/10 [==============================] - 0s 457us/step - loss: nan\n",
      "Epoch 276/300\n",
      "10/10 [==============================] - 0s 386us/step - loss: nan\n",
      "Epoch 277/300\n",
      "10/10 [==============================] - 0s 223us/step - loss: nan\n",
      "Epoch 278/300\n",
      "10/10 [==============================] - 0s 252us/step - loss: nan\n",
      "Epoch 279/300\n",
      "10/10 [==============================] - 0s 248us/step - loss: nan\n",
      "Epoch 280/300\n",
      "10/10 [==============================] - 0s 448us/step - loss: nan\n",
      "Epoch 281/300\n",
      "10/10 [==============================] - 0s 190us/step - loss: nan\n",
      "Epoch 282/300\n",
      "10/10 [==============================] - 0s 174us/step - loss: nan\n",
      "Epoch 283/300\n",
      "10/10 [==============================] - 0s 179us/step - loss: nan\n",
      "Epoch 284/300\n",
      "10/10 [==============================] - 0s 295us/step - loss: nan\n",
      "Epoch 285/300\n",
      "10/10 [==============================] - 0s 229us/step - loss: nan\n",
      "Epoch 286/300\n",
      "10/10 [==============================] - 0s 181us/step - loss: nan\n",
      "Epoch 287/300\n",
      "10/10 [==============================] - 0s 179us/step - loss: nan\n",
      "Epoch 288/300\n",
      "10/10 [==============================] - 0s 248us/step - loss: nan\n",
      "Epoch 289/300\n",
      "10/10 [==============================] - 0s 407us/step - loss: nan\n",
      "Epoch 290/300\n",
      "10/10 [==============================] - 0s 216us/step - loss: nan\n",
      "Epoch 291/300\n",
      "10/10 [==============================] - 0s 208us/step - loss: nan\n",
      "Epoch 292/300\n",
      "10/10 [==============================] - 0s 218us/step - loss: nan\n",
      "Epoch 293/300\n",
      "10/10 [==============================] - 0s 216us/step - loss: nan\n",
      "Epoch 294/300\n",
      "10/10 [==============================] - 0s 134us/step - loss: nan\n",
      "Epoch 295/300\n",
      "10/10 [==============================] - 0s 177us/step - loss: nan\n",
      "Epoch 296/300\n",
      "10/10 [==============================] - 0s 162us/step - loss: nan\n",
      "Epoch 297/300\n",
      "10/10 [==============================] - 0s 312us/step - loss: nan\n",
      "Epoch 298/300\n",
      "10/10 [==============================] - 0s 402us/step - loss: nan\n",
      "Epoch 299/300\n",
      "10/10 [==============================] - 0s 227us/step - loss: nan\n",
      "Epoch 300/300\n",
      "10/10 [==============================] - 0s 170us/step - loss: nan\n"
     ]
    }
   ],
   "source": [
    "hist=model.fit(x,y,shuffle=False,batch_size=10,epochs=300)"
   ]
  },
  {
   "cell_type": "code",
   "execution_count": 108,
   "metadata": {},
   "outputs": [
    {
     "data": {
      "text/plain": [
       "[<matplotlib.lines.Line2D at 0x11d4b1278>]"
      ]
     },
     "execution_count": 108,
     "metadata": {},
     "output_type": "execute_result"
    },
    {
     "data": {
      "image/png": "[encoded data removed]",
      "text/plain": [
       "<Figure size 432x288 with 1 Axes>"
      ]
     },
     "metadata": {
      "needs_background": "light"
     },
     "output_type": "display_data"
    }
   ],
   "source": [
    "plt.plot(hist.history['loss'])"
   ]
  },
  {
   "cell_type": "code",
   "execution_count": null,
   "metadata": {},
   "outputs": [],
   "source": [
    "import keras.backend as K\n",
    "def get_activations(model, layer, X_batch):\n",
    "    get_activations = K.function([model.layers[0].input, K.learning_phase()], model.layers[layer].output)\n",
    "    activations = get_activations([X_batch,0])\n",
    "    return activations"
   ]
  },
  {
   "cell_type": "code",
   "execution_count": null,
   "metadata": {},
   "outputs": [],
   "source": []
  },
  {
   "cell_type": "code",
   "execution_count": null,
   "metadata": {},
   "outputs": [],
   "source": []
  }
 ],
 "metadata": {
  "kernelspec": {
   "display_name": "Python 3",
   "language": "python",
   "name": "python3"
  },
  "language_info": {
   "codemirror_mode": {
    "name": "ipython",
    "version": 3
   },
   "file_extension": ".py",
   "mimetype": "text/x-python",
   "name": "python",
   "nbconvert_exporter": "python",
   "pygments_lexer": "ipython3",
   "version": "3.7.0"
  }
 },
 "nbformat": 4,
 "nbformat_minor": 1
}
