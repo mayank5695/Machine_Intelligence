{
 "cells": [
  {
   "cell_type": "markdown",
   "metadata": {},
   "source": [
    "# CSE5311: Numerical Methods for Data Analytics\n",
    "## Homework 4\n",
    "### Principal Component Analysis (PCA)"
   ]
  },
  {
   "cell_type": "code",
   "execution_count": 69,
   "metadata": {
    "collapsed": true
   },
   "outputs": [],
   "source": [
    "import matplotlib.pyplot as plt\n",
    "import pandas as pd\n",
    "import numpy as np\n",
    "import seaborn as sns\n",
    "%matplotlib inline"
   ]
  },
  {
   "cell_type": "code",
   "execution_count": 70,
   "metadata": {
    "collapsed": true
   },
   "outputs": [],
   "source": [
    "# Scikit learn has a bunch of built in datasets.  Hit 'tab' after 'load' and you will see \n",
    "# the autocomplete list.  Load the breast cancer data set we worked with in class.\n",
    "from sklearn.datasets import load_breast_cancer"
   ]
  },
  {
   "cell_type": "code",
   "execution_count": 71,
   "metadata": {
    "collapsed": false
   },
   "outputs": [],
   "source": [
    "# Want to find the best feature reduction that maximizes the variance in the data, i.e. perform PCA.\n",
    "# Store the data in a pandas data.\n",
    "cancer= load_breast_cancer()\n",
    "df = pd.DataFrame(cancer['data'],columns=cancer['feature_names'])"
   ]
  },
  {
   "cell_type": "code",
   "execution_count": 72,
   "metadata": {
    "collapsed": false
   },
   "outputs": [
    {
     "data": {
      "text/html": [
       "<div>\n",
       "<table border=\"1\" class=\"dataframe\">\n",
       "  <thead>\n",
       "    <tr style=\"text-align: right;\">\n",
       "      <th></th>\n",
       "      <th>mean radius</th>\n",
       "      <th>mean texture</th>\n",
       "      <th>mean perimeter</th>\n",
       "      <th>mean area</th>\n",
       "      <th>mean smoothness</th>\n",
       "      <th>mean compactness</th>\n",
       "      <th>mean concavity</th>\n",
       "      <th>mean concave points</th>\n",
       "      <th>mean symmetry</th>\n",
       "      <th>mean fractal dimension</th>\n",
       "      <th>...</th>\n",
       "      <th>worst radius</th>\n",
       "      <th>worst texture</th>\n",
       "      <th>worst perimeter</th>\n",
       "      <th>worst area</th>\n",
       "      <th>worst smoothness</th>\n",
       "      <th>worst compactness</th>\n",
       "      <th>worst concavity</th>\n",
       "      <th>worst concave points</th>\n",
       "      <th>worst symmetry</th>\n",
       "      <th>worst fractal dimension</th>\n",
       "    </tr>\n",
       "  </thead>\n",
       "  <tbody>\n",
       "    <tr>\n",
       "      <th>0</th>\n",
       "      <td>17.99</td>\n",
       "      <td>10.38</td>\n",
       "      <td>122.80</td>\n",
       "      <td>1001.0</td>\n",
       "      <td>0.11840</td>\n",
       "      <td>0.27760</td>\n",
       "      <td>0.3001</td>\n",
       "      <td>0.14710</td>\n",
       "      <td>0.2419</td>\n",
       "      <td>0.07871</td>\n",
       "      <td>...</td>\n",
       "      <td>25.38</td>\n",
       "      <td>17.33</td>\n",
       "      <td>184.60</td>\n",
       "      <td>2019.0</td>\n",
       "      <td>0.1622</td>\n",
       "      <td>0.6656</td>\n",
       "      <td>0.7119</td>\n",
       "      <td>0.2654</td>\n",
       "      <td>0.4601</td>\n",
       "      <td>0.11890</td>\n",
       "    </tr>\n",
       "    <tr>\n",
       "      <th>1</th>\n",
       "      <td>20.57</td>\n",
       "      <td>17.77</td>\n",
       "      <td>132.90</td>\n",
       "      <td>1326.0</td>\n",
       "      <td>0.08474</td>\n",
       "      <td>0.07864</td>\n",
       "      <td>0.0869</td>\n",
       "      <td>0.07017</td>\n",
       "      <td>0.1812</td>\n",
       "      <td>0.05667</td>\n",
       "      <td>...</td>\n",
       "      <td>24.99</td>\n",
       "      <td>23.41</td>\n",
       "      <td>158.80</td>\n",
       "      <td>1956.0</td>\n",
       "      <td>0.1238</td>\n",
       "      <td>0.1866</td>\n",
       "      <td>0.2416</td>\n",
       "      <td>0.1860</td>\n",
       "      <td>0.2750</td>\n",
       "      <td>0.08902</td>\n",
       "    </tr>\n",
       "    <tr>\n",
       "      <th>2</th>\n",
       "      <td>19.69</td>\n",
       "      <td>21.25</td>\n",
       "      <td>130.00</td>\n",
       "      <td>1203.0</td>\n",
       "      <td>0.10960</td>\n",
       "      <td>0.15990</td>\n",
       "      <td>0.1974</td>\n",
       "      <td>0.12790</td>\n",
       "      <td>0.2069</td>\n",
       "      <td>0.05999</td>\n",
       "      <td>...</td>\n",
       "      <td>23.57</td>\n",
       "      <td>25.53</td>\n",
       "      <td>152.50</td>\n",
       "      <td>1709.0</td>\n",
       "      <td>0.1444</td>\n",
       "      <td>0.4245</td>\n",
       "      <td>0.4504</td>\n",
       "      <td>0.2430</td>\n",
       "      <td>0.3613</td>\n",
       "      <td>0.08758</td>\n",
       "    </tr>\n",
       "    <tr>\n",
       "      <th>3</th>\n",
       "      <td>11.42</td>\n",
       "      <td>20.38</td>\n",
       "      <td>77.58</td>\n",
       "      <td>386.1</td>\n",
       "      <td>0.14250</td>\n",
       "      <td>0.28390</td>\n",
       "      <td>0.2414</td>\n",
       "      <td>0.10520</td>\n",
       "      <td>0.2597</td>\n",
       "      <td>0.09744</td>\n",
       "      <td>...</td>\n",
       "      <td>14.91</td>\n",
       "      <td>26.50</td>\n",
       "      <td>98.87</td>\n",
       "      <td>567.7</td>\n",
       "      <td>0.2098</td>\n",
       "      <td>0.8663</td>\n",
       "      <td>0.6869</td>\n",
       "      <td>0.2575</td>\n",
       "      <td>0.6638</td>\n",
       "      <td>0.17300</td>\n",
       "    </tr>\n",
       "    <tr>\n",
       "      <th>4</th>\n",
       "      <td>20.29</td>\n",
       "      <td>14.34</td>\n",
       "      <td>135.10</td>\n",
       "      <td>1297.0</td>\n",
       "      <td>0.10030</td>\n",
       "      <td>0.13280</td>\n",
       "      <td>0.1980</td>\n",
       "      <td>0.10430</td>\n",
       "      <td>0.1809</td>\n",
       "      <td>0.05883</td>\n",
       "      <td>...</td>\n",
       "      <td>22.54</td>\n",
       "      <td>16.67</td>\n",
       "      <td>152.20</td>\n",
       "      <td>1575.0</td>\n",
       "      <td>0.1374</td>\n",
       "      <td>0.2050</td>\n",
       "      <td>0.4000</td>\n",
       "      <td>0.1625</td>\n",
       "      <td>0.2364</td>\n",
       "      <td>0.07678</td>\n",
       "    </tr>\n",
       "  </tbody>\n",
       "</table>\n",
       "<p>5 rows × 30 columns</p>\n",
       "</div>"
      ],
      "text/plain": [
       "   mean radius  mean texture  mean perimeter  mean area  mean smoothness  \\\n",
       "0        17.99         10.38          122.80     1001.0          0.11840   \n",
       "1        20.57         17.77          132.90     1326.0          0.08474   \n",
       "2        19.69         21.25          130.00     1203.0          0.10960   \n",
       "3        11.42         20.38           77.58      386.1          0.14250   \n",
       "4        20.29         14.34          135.10     1297.0          0.10030   \n",
       "\n",
       "   mean compactness  mean concavity  mean concave points  mean symmetry  \\\n",
       "0           0.27760          0.3001              0.14710         0.2419   \n",
       "1           0.07864          0.0869              0.07017         0.1812   \n",
       "2           0.15990          0.1974              0.12790         0.2069   \n",
       "3           0.28390          0.2414              0.10520         0.2597   \n",
       "4           0.13280          0.1980              0.10430         0.1809   \n",
       "\n",
       "   mean fractal dimension           ...             worst radius  \\\n",
       "0                 0.07871           ...                    25.38   \n",
       "1                 0.05667           ...                    24.99   \n",
       "2                 0.05999           ...                    23.57   \n",
       "3                 0.09744           ...                    14.91   \n",
       "4                 0.05883           ...                    22.54   \n",
       "\n",
       "   worst texture  worst perimeter  worst area  worst smoothness  \\\n",
       "0          17.33           184.60      2019.0            0.1622   \n",
       "1          23.41           158.80      1956.0            0.1238   \n",
       "2          25.53           152.50      1709.0            0.1444   \n",
       "3          26.50            98.87       567.7            0.2098   \n",
       "4          16.67           152.20      1575.0            0.1374   \n",
       "\n",
       "   worst compactness  worst concavity  worst concave points  worst symmetry  \\\n",
       "0             0.6656           0.7119                0.2654          0.4601   \n",
       "1             0.1866           0.2416                0.1860          0.2750   \n",
       "2             0.4245           0.4504                0.2430          0.3613   \n",
       "3             0.8663           0.6869                0.2575          0.6638   \n",
       "4             0.2050           0.4000                0.1625          0.2364   \n",
       "\n",
       "   worst fractal dimension  \n",
       "0                  0.11890  \n",
       "1                  0.08902  \n",
       "2                  0.08758  \n",
       "3                  0.17300  \n",
       "4                  0.07678  \n",
       "\n",
       "[5 rows x 30 columns]"
      ]
     },
     "execution_count": 72,
     "metadata": {},
     "output_type": "execute_result"
    }
   ],
   "source": [
    "# Look at a few rows of the data.\n",
    "df.head()"
   ]
  },
  {
   "cell_type": "code",
   "execution_count": 73,
   "metadata": {
    "collapsed": false
   },
   "outputs": [
    {
     "name": "stdout",
     "output_type": "stream",
     "text": [
      "('rows :', 569)\n",
      "('columns :', 30)\n"
     ]
    }
   ],
   "source": [
    "# Print out the number of rows (data) and columns (features)\n",
    "print('rows :',df.shape[0])\n",
    "print('columns :',df.shape[1])"
   ]
  },
  {
   "cell_type": "code",
   "execution_count": 74,
   "metadata": {
    "collapsed": false
   },
   "outputs": [],
   "source": [
    "# Pull the data out of the pandas data frame and assign it to numpy array.\n",
    "arr=df.as_matrix()"
   ]
  },
  {
   "cell_type": "code",
   "execution_count": 75,
   "metadata": {
    "collapsed": false
   },
   "outputs": [
    {
     "name": "stdout",
     "output_type": "stream",
     "text": [
      "(569, 30)\n",
      "[  1.41272917e+01   1.92896485e+01   9.19690334e+01   6.54889104e+02\n",
      "   9.63602812e-02   1.04340984e-01   8.87993158e-02   4.89191459e-02\n",
      "   1.81161863e-01   6.27976098e-02   4.05172056e-01   1.21685343e+00\n",
      "   2.86605923e+00   4.03370791e+01   7.04097891e-03   2.54781388e-02\n",
      "   3.18937163e-02   1.17961371e-02   2.05422988e-02   3.79490387e-03\n",
      "   1.62691898e+01   2.56772232e+01   1.07261213e+02   8.80583128e+02\n",
      "   1.32368594e-01   2.54265044e-01   2.72188483e-01   1.14606223e-01\n",
      "   2.90075571e-01   8.39458172e-02]\n"
     ]
    }
   ],
   "source": [
    "# Standardize the dataset using the scikit-learn StandardScaler.   Your data should have zero mean and unit standard devication.\n",
    "from sklearn.preprocessing import StandardScaler\n",
    "scaler = StandardScaler()\n",
    "scaler.fit(arr)\n",
    "scaledData=scaler.transform(arr)\n",
    "print(scaledData.shape)\n",
    "mean_data=scaler.mean_\n",
    "print(mean_data)"
   ]
  },
  {
   "cell_type": "code",
   "execution_count": 76,
   "metadata": {
    "collapsed": false
   },
   "outputs": [],
   "source": [
    "# Subtract the mean of each column from each row of the data.  You really shouln't need this as the standard scaler would\n",
    "# have take care of this for you.  But, it is good practice to learn how to do this.\n",
    "mean_vect=np.mean(scaledData,axis=0)\n",
    "cov_mat = (scaledData - mean_vect).T.dot((scaledData - mean_vect)) / (scaledData.shape[0]-1)\n",
    "\n",
    "#dat=np.zeros(shape=(arr.shape[0],arr.shape[1]))\n",
    "#print dat.shape\n",
    "#for i in range(0,arr.shape[0]):\n",
    " #   for j in range(0,arr.shape[1]):\n",
    "#      dat[i][j]=scaledData[i][j]-mean_data[j]"
   ]
  },
  {
   "cell_type": "code",
   "execution_count": 77,
   "metadata": {
    "collapsed": false
   },
   "outputs": [],
   "source": [
    "# Form the covariance matrix. Store it in a variable called covMat.\n",
    "covMat=cov_mat\n",
    "\n",
    "#Alternate method to find a covariance matrix is to use numpy.cov\n",
    "covariance_matrix=np.cov(scaledData.T)"
   ]
  },
  {
   "cell_type": "code",
   "execution_count": 78,
   "metadata": {
    "collapsed": false
   },
   "outputs": [],
   "source": [
    "# Get the eigenvalues and eigenvectors of the covariance matrix and store them two variables.\n",
    "evals, evecs = np.linalg.eigh(covMat)"
   ]
  },
  {
   "cell_type": "code",
   "execution_count": 79,
   "metadata": {
    "collapsed": false
   },
   "outputs": [
    {
     "name": "stdout",
     "output_type": "stream",
     "text": [
      "30\n"
     ]
    }
   ],
   "source": [
    "# Get the total number of eigenvalues.\n",
    "number=evals.shape[0]\n",
    "print number"
   ]
  },
  {
   "cell_type": "code",
   "execution_count": 80,
   "metadata": {
    "collapsed": false
   },
   "outputs": [],
   "source": [
    "# Check if all the eigenvectors are unit length.  Hint: use np.testing.assert_array_almost_equal on each of eigenvectors.\n",
    "for ev in evecs:\n",
    "    np.testing.assert_array_almost_equal(1.0, np.linalg.norm(ev))\n",
    "    "
   ]
  },
  {
   "cell_type": "code",
   "execution_count": 81,
   "metadata": {
    "collapsed": false
   },
   "outputs": [
    {
     "name": "stdout",
     "output_type": "stream",
     "text": [
      "13.3049907944\n",
      "5.70137460373\n",
      "2.82291015501\n",
      "1.98412751773\n",
      "1.65163324233\n",
      "1.2094822398\n",
      "0.676408881701\n",
      "0.47745625469\n",
      "0.417628782108\n",
      "0.351310874882\n",
      "0.294433153491\n",
      "0.261621161366\n",
      "0.241782421328\n",
      "0.157286149218\n",
      "0.0943006956011\n",
      "0.0800034044774\n",
      "0.0595036135304\n",
      "0.0527114222101\n",
      "0.049564700213\n",
      "0.0312142605531\n",
      "0.0300256630904\n",
      "0.0274877113389\n",
      "0.0243836913546\n",
      "0.0180867939843\n",
      "0.0155085271344\n",
      "0.00819203711761\n",
      "0.00691261257918\n",
      "0.0015921360012\n",
      "0.000750121412719\n",
      "0.000133279056664\n"
     ]
    }
   ],
   "source": [
    "# Make a list of (eigenvalue, eigenvector) tuples.\n",
    "epair = [(np.abs(evals[i]), evecs[:,i]) for i in range(len(evals))]\n",
    "\n",
    "\n",
    "# Sort the (eigenvalue, eigenvector) tuples from high to low.\n",
    "epair.sort(key=lambda x: x[0], reverse=True)\n",
    "\n",
    "# Visually confirm that the list is correctly sorted by decreasing eigenvalues, i.e. print out the eigenvalues.\n",
    "for i in epair:\n",
    "    print(i[0])"
   ]
  },
  {
   "cell_type": "code",
   "execution_count": 85,
   "metadata": {
    "collapsed": false
   },
   "outputs": [],
   "source": [
    "# Calculate the percent variance explained by each eigenvector.  To do this, sum all the eigenvalues and store that number\n",
    "# in a variable.  Then create a new array where each entry is an eigenvalue divided by the total sum of the eigenvalues.\n",
    "# Then call np.cumsum to get the cummaltive sum illustrating how much variance is explained by included one additional\n",
    "# eigenvector in your projection matrix.  Make sure you are using the eigenvalues in sorted (high to low) order.\n",
    "\n",
    "tot = np.sum(evals)\n",
    "var_exp = [(i / tot)*100 for i in sorted(evals, reverse=True)]\n",
    "cum_var_exp = np.cumsum(var_exp)\n",
    "\n"
   ]
  },
  {
   "cell_type": "code",
   "execution_count": 86,
   "metadata": {
    "collapsed": false
   },
   "outputs": [
    {
     "name": "stdout",
     "output_type": "stream",
     "text": [
      "[  44.27202561   63.24320765   72.63637091   79.23850582   84.73427432\n",
      "   88.75879636   91.00953007   92.59825387   93.98790324   95.15688143\n",
      "   96.13660042   97.00713832   97.81166331   98.33502905   98.64881227\n",
      "   98.91502161   99.1130184    99.28841435   99.45333965   99.55720433\n",
      "   99.65711397   99.74857865   99.82971477   99.88989813   99.94150237\n",
      "   99.96876117   99.99176271   99.99706051   99.99955652  100.        ]\n"
     ]
    }
   ],
   "source": [
    "# Print out the variance explained amount in the cumsum array.\n",
    "print cum_var_exp"
   ]
  },
  {
   "cell_type": "code",
   "execution_count": 97,
   "metadata": {
    "collapsed": false,
    "scrolled": true
   },
   "outputs": [
    {
     "data": {
      "image/png": "[encoded data removed]",
      "text/plain": [
       "<matplotlib.figure.Figure at 0x7f31ddeb1950>"
      ]
     },
     "metadata": {},
     "output_type": "display_data"
    }
   ],
   "source": [
    "# Visualize the explained variance.  Use the plt.sytle.context to set the style for the specific plot.  See \n",
    "# expected out put below.\n",
    "with plt.style.context('seaborn-whitegrid'):\n",
    "    plt.figure(figsize=(6, 4))\n",
    "\n",
    "    plt.bar(range(30), var_exp, alpha=0.5, align='center',\n",
    "            label='individual explained variance')\n",
    "    plt.step(range(30), cum_var_exp, where='mid',\n",
    "             label='cumulative explained variance')\n",
    "    plt.ylabel('Explained variance ratio')\n",
    "    plt.xlabel('Principal components')\n",
    "    plt.legend(loc='best')\n",
    "    plt.tight_layout()"
   ]
  },
  {
   "cell_type": "code",
   "execution_count": 88,
   "metadata": {
    "collapsed": false
   },
   "outputs": [
    {
     "name": "stdout",
     "output_type": "stream",
     "text": [
      "[[-0.21890244  0.23385713]\n",
      " [-0.10372458  0.05970609]\n",
      " [-0.22753729  0.21518136]\n",
      " [-0.22099499  0.23107671]\n",
      " [-0.14258969 -0.18611302]\n",
      " [-0.23928535 -0.15189161]\n",
      " [-0.25840048 -0.06016536]\n",
      " [-0.26085376  0.0347675 ]\n",
      " [-0.13816696 -0.19034877]\n",
      " [-0.06436335 -0.36657547]\n",
      " [-0.20597878  0.10555215]\n",
      " [-0.01742803 -0.08997968]\n",
      " [-0.21132592  0.08945723]\n",
      " [-0.20286964  0.15229263]\n",
      " [-0.01453145 -0.20443045]\n",
      " [-0.17039345 -0.2327159 ]\n",
      " [-0.15358979 -0.19720728]\n",
      " [-0.1834174  -0.13032156]\n",
      " [-0.04249842 -0.183848  ]\n",
      " [-0.10256832 -0.28009203]\n",
      " [-0.22799663  0.21986638]\n",
      " [-0.10446933  0.0454673 ]\n",
      " [-0.23663968  0.19987843]\n",
      " [-0.22487053  0.21935186]\n",
      " [-0.12795256 -0.17230435]\n",
      " [-0.21009588 -0.14359317]\n",
      " [-0.22876753 -0.09796411]\n",
      " [-0.25088597  0.00825724]\n",
      " [-0.12290456 -0.14188335]\n",
      " [-0.13178394 -0.27533947]]\n"
     ]
    }
   ],
   "source": [
    "# Add projection code here.  Let's reduce the dimensions using the leading two eigenvectors so we\n",
    "# can compare to our results using scikit-learn exercise we finished in class.  So, make a projection matrix\n",
    "# with the leading two eigenvectors as columns.  This will be the U matrix we discussed in class and notes.\n",
    "# After you create the projection matrix, print out its size.  Does it make sense?\n",
    "\n",
    "matrix_w = np.hstack((epair[0][1].reshape(30,1), epair[1][1].reshape(30,1)))\n",
    "print matrix_w\n"
   ]
  },
  {
   "cell_type": "code",
   "execution_count": 100,
   "metadata": {
    "collapsed": false
   },
   "outputs": [
    {
     "name": "stdout",
     "output_type": "stream",
     "text": [
      "[[  9.19283683   1.94858307]\n",
      " [  2.3878018   -3.76817174]\n",
      " [  5.73389628  -1.0751738 ]\n",
      " ..., \n",
      " [  1.25617928  -1.90229671]\n",
      " [ 10.37479406   1.67201011]\n",
      " [ -5.4752433   -0.67063679]]\n"
     ]
    }
   ],
   "source": [
    "# Project the data using the projection matrix.  This requires us to take the inner product of \n",
    "# every 30-dim data point with the each of columns in our projection matrix.\n",
    "# Note: usually we would stack the eigenvectors as columns in a matrix, say U.  To project we would\n",
    "# have U'*X' (when X contains data on rows and features as columns) and then we would transpose the\n",
    "# result to get back a matrix with data on rows and features as columns.  So (U'*X')'=X*U.  'dot' \n",
    "# function does matrix multiply or other option is to make it a np.matrix first and then use *.\n",
    "\n",
    "Y = scaledData.dot(matrix_w)\n",
    "Y=Y*-1\n",
    "print Y"
   ]
  },
  {
   "cell_type": "code",
   "execution_count": 101,
   "metadata": {
    "collapsed": false
   },
   "outputs": [
    {
     "data": {
      "text/plain": [
       "<matplotlib.text.Text at 0x7f31ddaee290>"
      ]
     },
     "execution_count": 101,
     "metadata": {},
     "output_type": "execute_result"
    },
    {
     "data": {
      "image/png": "[encoded data removed]",
      "text/plain": [
       "<matplotlib.figure.Figure at 0x7f31ddfc7dd0>"
      ]
     },
     "metadata": {},
     "output_type": "display_data"
    }
   ],
   "source": [
    "# Visualize the projected data.\n",
    "plt.figure(figsize=(8,6))\n",
    "# Set the color to be the target label from the original data.\n",
    "plt.scatter(Y[:,0],Y[:,1],c=cancer['target'],cmap='plasma')\n",
    "plt.xlabel('First Principal Component')\n",
    "plt.ylabel('Second Principal Componetn')"
   ]
  },
  {
   "cell_type": "markdown",
   "metadata": {},
   "source": [
    "The above plot should match what we get back from scikit-learn."
   ]
  }
 ],
 "metadata": {
  "kernelspec": {
   "display_name": "Python 2",
   "language": "python",
   "name": "python2"
  },
  "language_info": {
   "codemirror_mode": {
    "name": "ipython",
    "version": 2
   },
   "file_extension": ".py",
   "mimetype": "text/x-python",
   "name": "python",
   "nbconvert_exporter": "python",
   "pygments_lexer": "ipython2",
   "version": "2.7.11"
  }
 },
 "nbformat": 4,
 "nbformat_minor": 0
}
